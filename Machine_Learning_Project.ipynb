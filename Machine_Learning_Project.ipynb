{
 "cells": [
  {
   "cell_type": "code",
   "execution_count": 5,
   "id": "31edb198",
   "metadata": {},
   "outputs": [
    {
     "data": {
      "text/plain": [
       "(11430, 89)"
      ]
     },
     "execution_count": 5,
     "metadata": {},
     "output_type": "execute_result"
    }
   ],
   "source": [
    "import pandas as pd\n",
    "pd.options.mode.chained_assignment = None  # default='warn'\n",
    "df = pd.read_csv('dataset_phishing.csv')\n",
    "df.shape"
   ]
  },
  {
   "cell_type": "code",
   "execution_count": 6,
   "id": "3eb6d010",
   "metadata": {},
   "outputs": [],
   "source": [
    "from sklearn.model_selection import train_test_split\n",
    "phishing_train, phishing_test = train_test_split(df, test_size=0.2, random_state=42)"
   ]
  },
  {
   "cell_type": "code",
   "execution_count": 7,
   "id": "2200f71c",
   "metadata": {},
   "outputs": [
    {
     "name": "stdout",
     "output_type": "stream",
     "text": [
      "<class 'pandas.core.frame.DataFrame'>\n",
      "Int64Index: 9144 entries, 3886 to 7270\n",
      "Data columns (total 89 columns):\n",
      " #   Column                      Non-Null Count  Dtype  \n",
      "---  ------                      --------------  -----  \n",
      " 0   url                         9144 non-null   object \n",
      " 1   length_url                  9144 non-null   int64  \n",
      " 2   length_hostname             9144 non-null   int64  \n",
      " 3   ip                          9144 non-null   int64  \n",
      " 4   nb_dots                     9144 non-null   int64  \n",
      " 5   nb_hyphens                  9144 non-null   int64  \n",
      " 6   nb_at                       9144 non-null   int64  \n",
      " 7   nb_qm                       9144 non-null   int64  \n",
      " 8   nb_and                      9144 non-null   int64  \n",
      " 9   nb_or                       9144 non-null   int64  \n",
      " 10  nb_eq                       9144 non-null   int64  \n",
      " 11  nb_underscore               9144 non-null   int64  \n",
      " 12  nb_tilde                    9144 non-null   int64  \n",
      " 13  nb_percent                  9144 non-null   int64  \n",
      " 14  nb_slash                    9144 non-null   int64  \n",
      " 15  nb_star                     9144 non-null   int64  \n",
      " 16  nb_colon                    9144 non-null   int64  \n",
      " 17  nb_comma                    9144 non-null   int64  \n",
      " 18  nb_semicolumn               9144 non-null   int64  \n",
      " 19  nb_dollar                   9144 non-null   int64  \n",
      " 20  nb_space                    9144 non-null   int64  \n",
      " 21  nb_www                      9144 non-null   int64  \n",
      " 22  nb_com                      9144 non-null   int64  \n",
      " 23  nb_dslash                   9144 non-null   int64  \n",
      " 24  http_in_path                9144 non-null   int64  \n",
      " 25  https_token                 9144 non-null   int64  \n",
      " 26  ratio_digits_url            9144 non-null   float64\n",
      " 27  ratio_digits_host           9144 non-null   float64\n",
      " 28  punycode                    9144 non-null   int64  \n",
      " 29  port                        9144 non-null   int64  \n",
      " 30  tld_in_path                 9144 non-null   int64  \n",
      " 31  tld_in_subdomain            9144 non-null   int64  \n",
      " 32  abnormal_subdomain          9144 non-null   int64  \n",
      " 33  nb_subdomains               9144 non-null   int64  \n",
      " 34  prefix_suffix               9144 non-null   int64  \n",
      " 35  random_domain               9144 non-null   int64  \n",
      " 36  shortening_service          9144 non-null   int64  \n",
      " 37  path_extension              9144 non-null   int64  \n",
      " 38  nb_redirection              9144 non-null   int64  \n",
      " 39  nb_external_redirection     9144 non-null   int64  \n",
      " 40  length_words_raw            9144 non-null   int64  \n",
      " 41  char_repeat                 9144 non-null   int64  \n",
      " 42  shortest_words_raw          9144 non-null   int64  \n",
      " 43  shortest_word_host          9144 non-null   int64  \n",
      " 44  shortest_word_path          9144 non-null   int64  \n",
      " 45  longest_words_raw           9144 non-null   int64  \n",
      " 46  longest_word_host           9144 non-null   int64  \n",
      " 47  longest_word_path           9144 non-null   int64  \n",
      " 48  avg_words_raw               9144 non-null   float64\n",
      " 49  avg_word_host               9144 non-null   float64\n",
      " 50  avg_word_path               9144 non-null   float64\n",
      " 51  phish_hints                 9144 non-null   int64  \n",
      " 52  domain_in_brand             9144 non-null   int64  \n",
      " 53  brand_in_subdomain          9144 non-null   int64  \n",
      " 54  brand_in_path               9144 non-null   int64  \n",
      " 55  suspecious_tld              9144 non-null   int64  \n",
      " 56  statistical_report          9144 non-null   int64  \n",
      " 57  nb_hyperlinks               9144 non-null   int64  \n",
      " 58  ratio_intHyperlinks         9144 non-null   float64\n",
      " 59  ratio_extHyperlinks         9144 non-null   float64\n",
      " 60  ratio_nullHyperlinks        9144 non-null   int64  \n",
      " 61  nb_extCSS                   9144 non-null   int64  \n",
      " 62  ratio_intRedirection        9144 non-null   int64  \n",
      " 63  ratio_extRedirection        9144 non-null   float64\n",
      " 64  ratio_intErrors             9144 non-null   int64  \n",
      " 65  ratio_extErrors             9144 non-null   float64\n",
      " 66  login_form                  9144 non-null   int64  \n",
      " 67  external_favicon            9144 non-null   int64  \n",
      " 68  links_in_tags               9144 non-null   float64\n",
      " 69  submit_email                9144 non-null   int64  \n",
      " 70  ratio_intMedia              9144 non-null   float64\n",
      " 71  ratio_extMedia              9144 non-null   float64\n",
      " 72  sfh                         9144 non-null   int64  \n",
      " 73  iframe                      9144 non-null   int64  \n",
      " 74  popup_window                9144 non-null   int64  \n",
      " 75  safe_anchor                 9144 non-null   float64\n",
      " 76  onmouseover                 9144 non-null   int64  \n",
      " 77  right_clic                  9144 non-null   int64  \n",
      " 78  empty_title                 9144 non-null   int64  \n",
      " 79  domain_in_title             9144 non-null   int64  \n",
      " 80  domain_with_copyright       9144 non-null   int64  \n",
      " 81  whois_registered_domain     9144 non-null   int64  \n",
      " 82  domain_registration_length  9144 non-null   int64  \n",
      " 83  domain_age                  9144 non-null   int64  \n",
      " 84  web_traffic                 9144 non-null   int64  \n",
      " 85  dns_record                  9144 non-null   int64  \n",
      " 86  google_index                9144 non-null   int64  \n",
      " 87  page_rank                   9144 non-null   int64  \n",
      " 88  status                      9144 non-null   object \n",
      "dtypes: float64(13), int64(74), object(2)\n",
      "memory usage: 6.3+ MB\n"
     ]
    }
   ],
   "source": [
    "phishing_train.info()"
   ]
  },
  {
   "cell_type": "code",
   "execution_count": 8,
   "id": "ca2991dc",
   "metadata": {},
   "outputs": [
    {
     "data": {
      "text/plain": [
       "phishing      4586\n",
       "legitimate    4558\n",
       "Name: status, dtype: int64"
      ]
     },
     "execution_count": 8,
     "metadata": {},
     "output_type": "execute_result"
    }
   ],
   "source": [
    "phishing_train['status'].value_counts()"
   ]
  },
  {
   "cell_type": "code",
   "execution_count": 9,
   "id": "ed4809f6",
   "metadata": {},
   "outputs": [
    {
     "data": {
      "text/plain": [
       "legitimate    1157\n",
       "phishing      1129\n",
       "Name: status, dtype: int64"
      ]
     },
     "execution_count": 9,
     "metadata": {},
     "output_type": "execute_result"
    }
   ],
   "source": [
    "phishing_test['status'].value_counts()"
   ]
  },
  {
   "cell_type": "code",
   "execution_count": 10,
   "id": "a3a346fc",
   "metadata": {},
   "outputs": [],
   "source": [
    "def map_label (X):\n",
    "    X['status'].replace(['phishing','legitimate'],['1','0'],inplace=True)\n",
    "    X['status'] = X['status'].astype(int)\n",
    "    return X\n",
    "    \n",
    "    "
   ]
  },
  {
   "cell_type": "code",
   "execution_count": 11,
   "id": "ceb738b8",
   "metadata": {},
   "outputs": [],
   "source": [
    "phishing_train = map_label(phishing_train)\n",
    "phishing_test = map_label(phishing_test)\n",
    "phishing_train.drop(\"url\", axis=1, inplace = True)\n",
    "phishing_test.drop(\"url\", axis=1, inplace = True)\n"
   ]
  },
  {
   "cell_type": "code",
   "execution_count": 12,
   "id": "bb9c685d",
   "metadata": {},
   "outputs": [
    {
     "data": {
      "text/plain": [
       "length_url                    False\n",
       "length_hostname               False\n",
       "ip                            False\n",
       "nb_dots                       False\n",
       "nb_hyphens                    False\n",
       "nb_at                         False\n",
       "nb_qm                         False\n",
       "nb_and                        False\n",
       "nb_or                         False\n",
       "nb_eq                         False\n",
       "nb_underscore                 False\n",
       "nb_tilde                      False\n",
       "nb_percent                    False\n",
       "nb_slash                      False\n",
       "nb_star                       False\n",
       "nb_colon                      False\n",
       "nb_comma                      False\n",
       "nb_semicolumn                 False\n",
       "nb_dollar                     False\n",
       "nb_space                      False\n",
       "nb_www                        False\n",
       "nb_com                        False\n",
       "nb_dslash                     False\n",
       "http_in_path                  False\n",
       "https_token                   False\n",
       "ratio_digits_url              False\n",
       "ratio_digits_host             False\n",
       "punycode                      False\n",
       "port                          False\n",
       "tld_in_path                   False\n",
       "tld_in_subdomain              False\n",
       "abnormal_subdomain            False\n",
       "nb_subdomains                 False\n",
       "prefix_suffix                 False\n",
       "random_domain                 False\n",
       "shortening_service            False\n",
       "path_extension                False\n",
       "nb_redirection                False\n",
       "nb_external_redirection       False\n",
       "length_words_raw              False\n",
       "char_repeat                   False\n",
       "shortest_words_raw            False\n",
       "shortest_word_host            False\n",
       "shortest_word_path            False\n",
       "longest_words_raw             False\n",
       "longest_word_host             False\n",
       "longest_word_path             False\n",
       "avg_words_raw                 False\n",
       "avg_word_host                 False\n",
       "avg_word_path                 False\n",
       "phish_hints                   False\n",
       "domain_in_brand               False\n",
       "brand_in_subdomain            False\n",
       "brand_in_path                 False\n",
       "suspecious_tld                False\n",
       "statistical_report            False\n",
       "nb_hyperlinks                 False\n",
       "ratio_intHyperlinks           False\n",
       "ratio_extHyperlinks           False\n",
       "ratio_nullHyperlinks          False\n",
       "nb_extCSS                     False\n",
       "ratio_intRedirection          False\n",
       "ratio_extRedirection          False\n",
       "ratio_intErrors               False\n",
       "ratio_extErrors               False\n",
       "login_form                    False\n",
       "external_favicon              False\n",
       "links_in_tags                 False\n",
       "submit_email                  False\n",
       "ratio_intMedia                False\n",
       "ratio_extMedia                False\n",
       "sfh                           False\n",
       "iframe                        False\n",
       "popup_window                  False\n",
       "safe_anchor                   False\n",
       "onmouseover                   False\n",
       "right_clic                    False\n",
       "empty_title                   False\n",
       "domain_in_title               False\n",
       "domain_with_copyright         False\n",
       "whois_registered_domain       False\n",
       "domain_registration_length     True\n",
       "domain_age                     True\n",
       "web_traffic                   False\n",
       "dns_record                    False\n",
       "google_index                  False\n",
       "page_rank                     False\n",
       "status                        False\n",
       "dtype: bool"
      ]
     },
     "execution_count": 12,
     "metadata": {},
     "output_type": "execute_result"
    }
   ],
   "source": [
    "pd.options.display.max_columns = None\n",
    "pd.options.display.max_rows = None\n",
    "(phishing_train < 0).any()"
   ]
  },
  {
   "cell_type": "code",
   "execution_count": 13,
   "id": "050ae04a",
   "metadata": {},
   "outputs": [
    {
     "data": {
      "text/plain": [
       "False"
      ]
     },
     "execution_count": 13,
     "metadata": {},
     "output_type": "execute_result"
    }
   ],
   "source": [
    "phishing_train.isnull().values.any()"
   ]
  },
  {
   "cell_type": "code",
   "execution_count": 14,
   "id": "44458225",
   "metadata": {},
   "outputs": [],
   "source": [
    "import numpy as np\n",
    "phishing_train[phishing_train < 0] = np.nan\n",
    "phishing_test[phishing_test < 0] = np.nan"
   ]
  },
  {
   "cell_type": "code",
   "execution_count": 15,
   "id": "37e20f22",
   "metadata": {},
   "outputs": [
    {
     "data": {
      "text/plain": [
       "True"
      ]
     },
     "execution_count": 15,
     "metadata": {},
     "output_type": "execute_result"
    }
   ],
   "source": [
    "phishing_train.isnull().values.any()"
   ]
  },
  {
   "cell_type": "code",
   "execution_count": 16,
   "id": "c5493d42",
   "metadata": {},
   "outputs": [
    {
     "data": {
      "text/plain": [
       "True"
      ]
     },
     "execution_count": 16,
     "metadata": {},
     "output_type": "execute_result"
    }
   ],
   "source": [
    "phishing_test.isnull().values.any()"
   ]
  },
  {
   "cell_type": "code",
   "execution_count": 17,
   "id": "c83884ad",
   "metadata": {},
   "outputs": [],
   "source": [
    "from sklearn.impute import SimpleImputer\n",
    "imputer = SimpleImputer(strategy=\"median\")"
   ]
  },
  {
   "cell_type": "code",
   "execution_count": 18,
   "id": "9106194d",
   "metadata": {},
   "outputs": [
    {
     "data": {
      "text/plain": [
       "SimpleImputer(strategy='median')"
      ]
     },
     "execution_count": 18,
     "metadata": {},
     "output_type": "execute_result"
    }
   ],
   "source": [
    "imputer.fit(phishing_train)"
   ]
  },
  {
   "cell_type": "code",
   "execution_count": 19,
   "id": "28e3caac",
   "metadata": {},
   "outputs": [],
   "source": [
    "X = imputer.transform(phishing_train)\n",
    "Y = imputer.transform(phishing_test)"
   ]
  },
  {
   "cell_type": "code",
   "execution_count": 20,
   "id": "a4c2efb1",
   "metadata": {},
   "outputs": [
    {
     "data": {
      "text/html": [
       "<div>\n",
       "<style scoped>\n",
       "    .dataframe tbody tr th:only-of-type {\n",
       "        vertical-align: middle;\n",
       "    }\n",
       "\n",
       "    .dataframe tbody tr th {\n",
       "        vertical-align: top;\n",
       "    }\n",
       "\n",
       "    .dataframe thead th {\n",
       "        text-align: right;\n",
       "    }\n",
       "</style>\n",
       "<table border=\"1\" class=\"dataframe\">\n",
       "  <thead>\n",
       "    <tr style=\"text-align: right;\">\n",
       "      <th></th>\n",
       "      <th>length_url</th>\n",
       "      <th>length_hostname</th>\n",
       "      <th>ip</th>\n",
       "      <th>nb_dots</th>\n",
       "      <th>nb_hyphens</th>\n",
       "      <th>nb_at</th>\n",
       "      <th>nb_qm</th>\n",
       "      <th>nb_and</th>\n",
       "      <th>nb_or</th>\n",
       "      <th>nb_eq</th>\n",
       "      <th>nb_underscore</th>\n",
       "      <th>nb_tilde</th>\n",
       "      <th>nb_percent</th>\n",
       "      <th>nb_slash</th>\n",
       "      <th>nb_star</th>\n",
       "      <th>nb_colon</th>\n",
       "      <th>nb_comma</th>\n",
       "      <th>nb_semicolumn</th>\n",
       "      <th>nb_dollar</th>\n",
       "      <th>nb_space</th>\n",
       "      <th>nb_www</th>\n",
       "      <th>nb_com</th>\n",
       "      <th>nb_dslash</th>\n",
       "      <th>http_in_path</th>\n",
       "      <th>https_token</th>\n",
       "      <th>ratio_digits_url</th>\n",
       "      <th>ratio_digits_host</th>\n",
       "      <th>punycode</th>\n",
       "      <th>port</th>\n",
       "      <th>tld_in_path</th>\n",
       "      <th>tld_in_subdomain</th>\n",
       "      <th>abnormal_subdomain</th>\n",
       "      <th>nb_subdomains</th>\n",
       "      <th>prefix_suffix</th>\n",
       "      <th>random_domain</th>\n",
       "      <th>shortening_service</th>\n",
       "      <th>path_extension</th>\n",
       "      <th>nb_redirection</th>\n",
       "      <th>nb_external_redirection</th>\n",
       "      <th>length_words_raw</th>\n",
       "      <th>char_repeat</th>\n",
       "      <th>shortest_words_raw</th>\n",
       "      <th>shortest_word_host</th>\n",
       "      <th>shortest_word_path</th>\n",
       "      <th>longest_words_raw</th>\n",
       "      <th>longest_word_host</th>\n",
       "      <th>longest_word_path</th>\n",
       "      <th>avg_words_raw</th>\n",
       "      <th>avg_word_host</th>\n",
       "      <th>avg_word_path</th>\n",
       "      <th>phish_hints</th>\n",
       "      <th>domain_in_brand</th>\n",
       "      <th>brand_in_subdomain</th>\n",
       "      <th>brand_in_path</th>\n",
       "      <th>suspecious_tld</th>\n",
       "      <th>statistical_report</th>\n",
       "      <th>nb_hyperlinks</th>\n",
       "      <th>ratio_intHyperlinks</th>\n",
       "      <th>ratio_extHyperlinks</th>\n",
       "      <th>ratio_nullHyperlinks</th>\n",
       "      <th>nb_extCSS</th>\n",
       "      <th>ratio_intRedirection</th>\n",
       "      <th>ratio_extRedirection</th>\n",
       "      <th>ratio_intErrors</th>\n",
       "      <th>ratio_extErrors</th>\n",
       "      <th>login_form</th>\n",
       "      <th>external_favicon</th>\n",
       "      <th>links_in_tags</th>\n",
       "      <th>submit_email</th>\n",
       "      <th>ratio_intMedia</th>\n",
       "      <th>ratio_extMedia</th>\n",
       "      <th>sfh</th>\n",
       "      <th>iframe</th>\n",
       "      <th>popup_window</th>\n",
       "      <th>safe_anchor</th>\n",
       "      <th>onmouseover</th>\n",
       "      <th>right_clic</th>\n",
       "      <th>empty_title</th>\n",
       "      <th>domain_in_title</th>\n",
       "      <th>domain_with_copyright</th>\n",
       "      <th>whois_registered_domain</th>\n",
       "      <th>domain_registration_length</th>\n",
       "      <th>domain_age</th>\n",
       "      <th>web_traffic</th>\n",
       "      <th>dns_record</th>\n",
       "      <th>google_index</th>\n",
       "      <th>page_rank</th>\n",
       "      <th>status</th>\n",
       "    </tr>\n",
       "  </thead>\n",
       "  <tbody>\n",
       "    <tr>\n",
       "      <th>3886</th>\n",
       "      <td>80.0</td>\n",
       "      <td>27.0</td>\n",
       "      <td>1.0</td>\n",
       "      <td>3.0</td>\n",
       "      <td>0.0</td>\n",
       "      <td>0.0</td>\n",
       "      <td>0.0</td>\n",
       "      <td>0.0</td>\n",
       "      <td>0.0</td>\n",
       "      <td>0.0</td>\n",
       "      <td>0.0</td>\n",
       "      <td>0.0</td>\n",
       "      <td>0.0</td>\n",
       "      <td>4.0</td>\n",
       "      <td>0.0</td>\n",
       "      <td>1.0</td>\n",
       "      <td>0.0</td>\n",
       "      <td>0.0</td>\n",
       "      <td>0.0</td>\n",
       "      <td>0.0</td>\n",
       "      <td>1.0</td>\n",
       "      <td>0.0</td>\n",
       "      <td>0.0</td>\n",
       "      <td>0.0</td>\n",
       "      <td>0.0</td>\n",
       "      <td>0.325000</td>\n",
       "      <td>0.000000</td>\n",
       "      <td>0.0</td>\n",
       "      <td>0.0</td>\n",
       "      <td>0.0</td>\n",
       "      <td>0.0</td>\n",
       "      <td>0.0</td>\n",
       "      <td>3.0</td>\n",
       "      <td>0.0</td>\n",
       "      <td>0.0</td>\n",
       "      <td>0.0</td>\n",
       "      <td>0.0</td>\n",
       "      <td>0.0</td>\n",
       "      <td>0.0</td>\n",
       "      <td>5.0</td>\n",
       "      <td>8.0</td>\n",
       "      <td>3.0</td>\n",
       "      <td>3.0</td>\n",
       "      <td>3.0</td>\n",
       "      <td>32.0</td>\n",
       "      <td>19.0</td>\n",
       "      <td>32.0</td>\n",
       "      <td>12.8000</td>\n",
       "      <td>11.0</td>\n",
       "      <td>14.000000</td>\n",
       "      <td>0.0</td>\n",
       "      <td>0.0</td>\n",
       "      <td>0.0</td>\n",
       "      <td>0.0</td>\n",
       "      <td>0.0</td>\n",
       "      <td>0.0</td>\n",
       "      <td>73.0</td>\n",
       "      <td>0.890411</td>\n",
       "      <td>0.109589</td>\n",
       "      <td>0.0</td>\n",
       "      <td>0.0</td>\n",
       "      <td>0.0</td>\n",
       "      <td>0.375000</td>\n",
       "      <td>0.0</td>\n",
       "      <td>0.250000</td>\n",
       "      <td>1.0</td>\n",
       "      <td>0.0</td>\n",
       "      <td>85.714286</td>\n",
       "      <td>0.0</td>\n",
       "      <td>100.000000</td>\n",
       "      <td>0.000000</td>\n",
       "      <td>0.0</td>\n",
       "      <td>0.0</td>\n",
       "      <td>0.0</td>\n",
       "      <td>87.804878</td>\n",
       "      <td>0.0</td>\n",
       "      <td>0.0</td>\n",
       "      <td>0.0</td>\n",
       "      <td>1.0</td>\n",
       "      <td>0.0</td>\n",
       "      <td>0.0</td>\n",
       "      <td>214.0</td>\n",
       "      <td>152.0</td>\n",
       "      <td>5008870.0</td>\n",
       "      <td>0.0</td>\n",
       "      <td>1.0</td>\n",
       "      <td>0.0</td>\n",
       "      <td>1.0</td>\n",
       "    </tr>\n",
       "    <tr>\n",
       "      <th>36</th>\n",
       "      <td>113.0</td>\n",
       "      <td>24.0</td>\n",
       "      <td>0.0</td>\n",
       "      <td>5.0</td>\n",
       "      <td>0.0</td>\n",
       "      <td>0.0</td>\n",
       "      <td>0.0</td>\n",
       "      <td>0.0</td>\n",
       "      <td>0.0</td>\n",
       "      <td>1.0</td>\n",
       "      <td>2.0</td>\n",
       "      <td>0.0</td>\n",
       "      <td>0.0</td>\n",
       "      <td>10.0</td>\n",
       "      <td>0.0</td>\n",
       "      <td>1.0</td>\n",
       "      <td>0.0</td>\n",
       "      <td>0.0</td>\n",
       "      <td>0.0</td>\n",
       "      <td>0.0</td>\n",
       "      <td>1.0</td>\n",
       "      <td>1.0</td>\n",
       "      <td>0.0</td>\n",
       "      <td>0.0</td>\n",
       "      <td>1.0</td>\n",
       "      <td>0.000000</td>\n",
       "      <td>0.000000</td>\n",
       "      <td>0.0</td>\n",
       "      <td>0.0</td>\n",
       "      <td>1.0</td>\n",
       "      <td>0.0</td>\n",
       "      <td>0.0</td>\n",
       "      <td>3.0</td>\n",
       "      <td>0.0</td>\n",
       "      <td>0.0</td>\n",
       "      <td>0.0</td>\n",
       "      <td>0.0</td>\n",
       "      <td>0.0</td>\n",
       "      <td>0.0</td>\n",
       "      <td>16.0</td>\n",
       "      <td>4.0</td>\n",
       "      <td>2.0</td>\n",
       "      <td>20.0</td>\n",
       "      <td>2.0</td>\n",
       "      <td>20.0</td>\n",
       "      <td>20.0</td>\n",
       "      <td>10.0</td>\n",
       "      <td>5.4375</td>\n",
       "      <td>20.0</td>\n",
       "      <td>4.466667</td>\n",
       "      <td>0.0</td>\n",
       "      <td>0.0</td>\n",
       "      <td>0.0</td>\n",
       "      <td>1.0</td>\n",
       "      <td>0.0</td>\n",
       "      <td>0.0</td>\n",
       "      <td>417.0</td>\n",
       "      <td>0.311751</td>\n",
       "      <td>0.688249</td>\n",
       "      <td>0.0</td>\n",
       "      <td>0.0</td>\n",
       "      <td>0.0</td>\n",
       "      <td>0.146341</td>\n",
       "      <td>0.0</td>\n",
       "      <td>0.013937</td>\n",
       "      <td>1.0</td>\n",
       "      <td>1.0</td>\n",
       "      <td>96.666667</td>\n",
       "      <td>0.0</td>\n",
       "      <td>97.435897</td>\n",
       "      <td>2.564103</td>\n",
       "      <td>0.0</td>\n",
       "      <td>0.0</td>\n",
       "      <td>0.0</td>\n",
       "      <td>0.000000</td>\n",
       "      <td>0.0</td>\n",
       "      <td>0.0</td>\n",
       "      <td>0.0</td>\n",
       "      <td>1.0</td>\n",
       "      <td>1.0</td>\n",
       "      <td>0.0</td>\n",
       "      <td>97.0</td>\n",
       "      <td>3920.0</td>\n",
       "      <td>0.0</td>\n",
       "      <td>0.0</td>\n",
       "      <td>0.0</td>\n",
       "      <td>2.0</td>\n",
       "      <td>1.0</td>\n",
       "    </tr>\n",
       "    <tr>\n",
       "      <th>10876</th>\n",
       "      <td>39.0</td>\n",
       "      <td>19.0</td>\n",
       "      <td>0.0</td>\n",
       "      <td>2.0</td>\n",
       "      <td>0.0</td>\n",
       "      <td>0.0</td>\n",
       "      <td>0.0</td>\n",
       "      <td>0.0</td>\n",
       "      <td>0.0</td>\n",
       "      <td>0.0</td>\n",
       "      <td>0.0</td>\n",
       "      <td>0.0</td>\n",
       "      <td>0.0</td>\n",
       "      <td>4.0</td>\n",
       "      <td>0.0</td>\n",
       "      <td>1.0</td>\n",
       "      <td>0.0</td>\n",
       "      <td>0.0</td>\n",
       "      <td>0.0</td>\n",
       "      <td>0.0</td>\n",
       "      <td>1.0</td>\n",
       "      <td>0.0</td>\n",
       "      <td>0.0</td>\n",
       "      <td>0.0</td>\n",
       "      <td>1.0</td>\n",
       "      <td>0.000000</td>\n",
       "      <td>0.000000</td>\n",
       "      <td>0.0</td>\n",
       "      <td>0.0</td>\n",
       "      <td>0.0</td>\n",
       "      <td>0.0</td>\n",
       "      <td>0.0</td>\n",
       "      <td>2.0</td>\n",
       "      <td>0.0</td>\n",
       "      <td>0.0</td>\n",
       "      <td>0.0</td>\n",
       "      <td>0.0</td>\n",
       "      <td>1.0</td>\n",
       "      <td>0.0</td>\n",
       "      <td>4.0</td>\n",
       "      <td>5.0</td>\n",
       "      <td>3.0</td>\n",
       "      <td>3.0</td>\n",
       "      <td>5.0</td>\n",
       "      <td>11.0</td>\n",
       "      <td>11.0</td>\n",
       "      <td>6.0</td>\n",
       "      <td>6.2500</td>\n",
       "      <td>7.0</td>\n",
       "      <td>5.500000</td>\n",
       "      <td>0.0</td>\n",
       "      <td>0.0</td>\n",
       "      <td>0.0</td>\n",
       "      <td>0.0</td>\n",
       "      <td>0.0</td>\n",
       "      <td>0.0</td>\n",
       "      <td>289.0</td>\n",
       "      <td>0.906574</td>\n",
       "      <td>0.093426</td>\n",
       "      <td>0.0</td>\n",
       "      <td>0.0</td>\n",
       "      <td>0.0</td>\n",
       "      <td>0.185185</td>\n",
       "      <td>0.0</td>\n",
       "      <td>0.296296</td>\n",
       "      <td>0.0</td>\n",
       "      <td>0.0</td>\n",
       "      <td>88.461538</td>\n",
       "      <td>0.0</td>\n",
       "      <td>100.000000</td>\n",
       "      <td>0.000000</td>\n",
       "      <td>0.0</td>\n",
       "      <td>0.0</td>\n",
       "      <td>0.0</td>\n",
       "      <td>29.411765</td>\n",
       "      <td>0.0</td>\n",
       "      <td>0.0</td>\n",
       "      <td>0.0</td>\n",
       "      <td>1.0</td>\n",
       "      <td>1.0</td>\n",
       "      <td>0.0</td>\n",
       "      <td>581.0</td>\n",
       "      <td>8917.0</td>\n",
       "      <td>1358.0</td>\n",
       "      <td>0.0</td>\n",
       "      <td>0.0</td>\n",
       "      <td>7.0</td>\n",
       "      <td>0.0</td>\n",
       "    </tr>\n",
       "    <tr>\n",
       "      <th>3058</th>\n",
       "      <td>100.0</td>\n",
       "      <td>18.0</td>\n",
       "      <td>1.0</td>\n",
       "      <td>3.0</td>\n",
       "      <td>1.0</td>\n",
       "      <td>0.0</td>\n",
       "      <td>0.0</td>\n",
       "      <td>0.0</td>\n",
       "      <td>0.0</td>\n",
       "      <td>0.0</td>\n",
       "      <td>0.0</td>\n",
       "      <td>0.0</td>\n",
       "      <td>0.0</td>\n",
       "      <td>8.0</td>\n",
       "      <td>0.0</td>\n",
       "      <td>1.0</td>\n",
       "      <td>0.0</td>\n",
       "      <td>0.0</td>\n",
       "      <td>0.0</td>\n",
       "      <td>0.0</td>\n",
       "      <td>1.0</td>\n",
       "      <td>0.0</td>\n",
       "      <td>0.0</td>\n",
       "      <td>0.0</td>\n",
       "      <td>1.0</td>\n",
       "      <td>0.220000</td>\n",
       "      <td>0.000000</td>\n",
       "      <td>0.0</td>\n",
       "      <td>0.0</td>\n",
       "      <td>0.0</td>\n",
       "      <td>0.0</td>\n",
       "      <td>0.0</td>\n",
       "      <td>3.0</td>\n",
       "      <td>1.0</td>\n",
       "      <td>0.0</td>\n",
       "      <td>0.0</td>\n",
       "      <td>0.0</td>\n",
       "      <td>0.0</td>\n",
       "      <td>0.0</td>\n",
       "      <td>10.0</td>\n",
       "      <td>5.0</td>\n",
       "      <td>2.0</td>\n",
       "      <td>3.0</td>\n",
       "      <td>2.0</td>\n",
       "      <td>32.0</td>\n",
       "      <td>10.0</td>\n",
       "      <td>32.0</td>\n",
       "      <td>8.0000</td>\n",
       "      <td>6.5</td>\n",
       "      <td>8.375000</td>\n",
       "      <td>3.0</td>\n",
       "      <td>0.0</td>\n",
       "      <td>0.0</td>\n",
       "      <td>0.0</td>\n",
       "      <td>0.0</td>\n",
       "      <td>0.0</td>\n",
       "      <td>124.0</td>\n",
       "      <td>0.951613</td>\n",
       "      <td>0.048387</td>\n",
       "      <td>0.0</td>\n",
       "      <td>1.0</td>\n",
       "      <td>0.0</td>\n",
       "      <td>0.000000</td>\n",
       "      <td>0.0</td>\n",
       "      <td>0.000000</td>\n",
       "      <td>0.0</td>\n",
       "      <td>1.0</td>\n",
       "      <td>97.500000</td>\n",
       "      <td>0.0</td>\n",
       "      <td>100.000000</td>\n",
       "      <td>0.000000</td>\n",
       "      <td>0.0</td>\n",
       "      <td>0.0</td>\n",
       "      <td>0.0</td>\n",
       "      <td>88.000000</td>\n",
       "      <td>0.0</td>\n",
       "      <td>0.0</td>\n",
       "      <td>0.0</td>\n",
       "      <td>1.0</td>\n",
       "      <td>1.0</td>\n",
       "      <td>0.0</td>\n",
       "      <td>112.0</td>\n",
       "      <td>254.0</td>\n",
       "      <td>0.0</td>\n",
       "      <td>0.0</td>\n",
       "      <td>1.0</td>\n",
       "      <td>0.0</td>\n",
       "      <td>1.0</td>\n",
       "    </tr>\n",
       "    <tr>\n",
       "      <th>2249</th>\n",
       "      <td>27.0</td>\n",
       "      <td>18.0</td>\n",
       "      <td>0.0</td>\n",
       "      <td>2.0</td>\n",
       "      <td>0.0</td>\n",
       "      <td>0.0</td>\n",
       "      <td>0.0</td>\n",
       "      <td>0.0</td>\n",
       "      <td>0.0</td>\n",
       "      <td>0.0</td>\n",
       "      <td>0.0</td>\n",
       "      <td>0.0</td>\n",
       "      <td>0.0</td>\n",
       "      <td>3.0</td>\n",
       "      <td>0.0</td>\n",
       "      <td>1.0</td>\n",
       "      <td>0.0</td>\n",
       "      <td>0.0</td>\n",
       "      <td>0.0</td>\n",
       "      <td>0.0</td>\n",
       "      <td>1.0</td>\n",
       "      <td>0.0</td>\n",
       "      <td>0.0</td>\n",
       "      <td>0.0</td>\n",
       "      <td>0.0</td>\n",
       "      <td>0.037037</td>\n",
       "      <td>0.055556</td>\n",
       "      <td>0.0</td>\n",
       "      <td>0.0</td>\n",
       "      <td>0.0</td>\n",
       "      <td>0.0</td>\n",
       "      <td>0.0</td>\n",
       "      <td>2.0</td>\n",
       "      <td>0.0</td>\n",
       "      <td>0.0</td>\n",
       "      <td>0.0</td>\n",
       "      <td>0.0</td>\n",
       "      <td>1.0</td>\n",
       "      <td>0.0</td>\n",
       "      <td>2.0</td>\n",
       "      <td>4.0</td>\n",
       "      <td>3.0</td>\n",
       "      <td>3.0</td>\n",
       "      <td>0.0</td>\n",
       "      <td>10.0</td>\n",
       "      <td>10.0</td>\n",
       "      <td>0.0</td>\n",
       "      <td>6.5000</td>\n",
       "      <td>6.5</td>\n",
       "      <td>0.000000</td>\n",
       "      <td>0.0</td>\n",
       "      <td>0.0</td>\n",
       "      <td>0.0</td>\n",
       "      <td>0.0</td>\n",
       "      <td>0.0</td>\n",
       "      <td>0.0</td>\n",
       "      <td>47.0</td>\n",
       "      <td>0.404255</td>\n",
       "      <td>0.595745</td>\n",
       "      <td>0.0</td>\n",
       "      <td>0.0</td>\n",
       "      <td>0.0</td>\n",
       "      <td>0.250000</td>\n",
       "      <td>0.0</td>\n",
       "      <td>0.000000</td>\n",
       "      <td>0.0</td>\n",
       "      <td>0.0</td>\n",
       "      <td>25.000000</td>\n",
       "      <td>0.0</td>\n",
       "      <td>0.000000</td>\n",
       "      <td>100.000000</td>\n",
       "      <td>0.0</td>\n",
       "      <td>0.0</td>\n",
       "      <td>0.0</td>\n",
       "      <td>27.272727</td>\n",
       "      <td>0.0</td>\n",
       "      <td>0.0</td>\n",
       "      <td>0.0</td>\n",
       "      <td>1.0</td>\n",
       "      <td>0.0</td>\n",
       "      <td>0.0</td>\n",
       "      <td>522.0</td>\n",
       "      <td>3861.0</td>\n",
       "      <td>8439309.0</td>\n",
       "      <td>0.0</td>\n",
       "      <td>0.0</td>\n",
       "      <td>2.0</td>\n",
       "      <td>0.0</td>\n",
       "    </tr>\n",
       "  </tbody>\n",
       "</table>\n",
       "</div>"
      ],
      "text/plain": [
       "       length_url  length_hostname   ip  nb_dots  nb_hyphens  nb_at  nb_qm  \\\n",
       "3886         80.0             27.0  1.0      3.0         0.0    0.0    0.0   \n",
       "36          113.0             24.0  0.0      5.0         0.0    0.0    0.0   \n",
       "10876        39.0             19.0  0.0      2.0         0.0    0.0    0.0   \n",
       "3058        100.0             18.0  1.0      3.0         1.0    0.0    0.0   \n",
       "2249         27.0             18.0  0.0      2.0         0.0    0.0    0.0   \n",
       "\n",
       "       nb_and  nb_or  nb_eq  nb_underscore  nb_tilde  nb_percent  nb_slash  \\\n",
       "3886      0.0    0.0    0.0            0.0       0.0         0.0       4.0   \n",
       "36        0.0    0.0    1.0            2.0       0.0         0.0      10.0   \n",
       "10876     0.0    0.0    0.0            0.0       0.0         0.0       4.0   \n",
       "3058      0.0    0.0    0.0            0.0       0.0         0.0       8.0   \n",
       "2249      0.0    0.0    0.0            0.0       0.0         0.0       3.0   \n",
       "\n",
       "       nb_star  nb_colon  nb_comma  nb_semicolumn  nb_dollar  nb_space  \\\n",
       "3886       0.0       1.0       0.0            0.0        0.0       0.0   \n",
       "36         0.0       1.0       0.0            0.0        0.0       0.0   \n",
       "10876      0.0       1.0       0.0            0.0        0.0       0.0   \n",
       "3058       0.0       1.0       0.0            0.0        0.0       0.0   \n",
       "2249       0.0       1.0       0.0            0.0        0.0       0.0   \n",
       "\n",
       "       nb_www  nb_com  nb_dslash  http_in_path  https_token  ratio_digits_url  \\\n",
       "3886      1.0     0.0        0.0           0.0          0.0          0.325000   \n",
       "36        1.0     1.0        0.0           0.0          1.0          0.000000   \n",
       "10876     1.0     0.0        0.0           0.0          1.0          0.000000   \n",
       "3058      1.0     0.0        0.0           0.0          1.0          0.220000   \n",
       "2249      1.0     0.0        0.0           0.0          0.0          0.037037   \n",
       "\n",
       "       ratio_digits_host  punycode  port  tld_in_path  tld_in_subdomain  \\\n",
       "3886            0.000000       0.0   0.0          0.0               0.0   \n",
       "36              0.000000       0.0   0.0          1.0               0.0   \n",
       "10876           0.000000       0.0   0.0          0.0               0.0   \n",
       "3058            0.000000       0.0   0.0          0.0               0.0   \n",
       "2249            0.055556       0.0   0.0          0.0               0.0   \n",
       "\n",
       "       abnormal_subdomain  nb_subdomains  prefix_suffix  random_domain  \\\n",
       "3886                  0.0            3.0            0.0            0.0   \n",
       "36                    0.0            3.0            0.0            0.0   \n",
       "10876                 0.0            2.0            0.0            0.0   \n",
       "3058                  0.0            3.0            1.0            0.0   \n",
       "2249                  0.0            2.0            0.0            0.0   \n",
       "\n",
       "       shortening_service  path_extension  nb_redirection  \\\n",
       "3886                  0.0             0.0             0.0   \n",
       "36                    0.0             0.0             0.0   \n",
       "10876                 0.0             0.0             1.0   \n",
       "3058                  0.0             0.0             0.0   \n",
       "2249                  0.0             0.0             1.0   \n",
       "\n",
       "       nb_external_redirection  length_words_raw  char_repeat  \\\n",
       "3886                       0.0               5.0          8.0   \n",
       "36                         0.0              16.0          4.0   \n",
       "10876                      0.0               4.0          5.0   \n",
       "3058                       0.0              10.0          5.0   \n",
       "2249                       0.0               2.0          4.0   \n",
       "\n",
       "       shortest_words_raw  shortest_word_host  shortest_word_path  \\\n",
       "3886                  3.0                 3.0                 3.0   \n",
       "36                    2.0                20.0                 2.0   \n",
       "10876                 3.0                 3.0                 5.0   \n",
       "3058                  2.0                 3.0                 2.0   \n",
       "2249                  3.0                 3.0                 0.0   \n",
       "\n",
       "       longest_words_raw  longest_word_host  longest_word_path  avg_words_raw  \\\n",
       "3886                32.0               19.0               32.0        12.8000   \n",
       "36                  20.0               20.0               10.0         5.4375   \n",
       "10876               11.0               11.0                6.0         6.2500   \n",
       "3058                32.0               10.0               32.0         8.0000   \n",
       "2249                10.0               10.0                0.0         6.5000   \n",
       "\n",
       "       avg_word_host  avg_word_path  phish_hints  domain_in_brand  \\\n",
       "3886            11.0      14.000000          0.0              0.0   \n",
       "36              20.0       4.466667          0.0              0.0   \n",
       "10876            7.0       5.500000          0.0              0.0   \n",
       "3058             6.5       8.375000          3.0              0.0   \n",
       "2249             6.5       0.000000          0.0              0.0   \n",
       "\n",
       "       brand_in_subdomain  brand_in_path  suspecious_tld  statistical_report  \\\n",
       "3886                  0.0            0.0             0.0                 0.0   \n",
       "36                    0.0            1.0             0.0                 0.0   \n",
       "10876                 0.0            0.0             0.0                 0.0   \n",
       "3058                  0.0            0.0             0.0                 0.0   \n",
       "2249                  0.0            0.0             0.0                 0.0   \n",
       "\n",
       "       nb_hyperlinks  ratio_intHyperlinks  ratio_extHyperlinks  \\\n",
       "3886            73.0             0.890411             0.109589   \n",
       "36             417.0             0.311751             0.688249   \n",
       "10876          289.0             0.906574             0.093426   \n",
       "3058           124.0             0.951613             0.048387   \n",
       "2249            47.0             0.404255             0.595745   \n",
       "\n",
       "       ratio_nullHyperlinks  nb_extCSS  ratio_intRedirection  \\\n",
       "3886                    0.0        0.0                   0.0   \n",
       "36                      0.0        0.0                   0.0   \n",
       "10876                   0.0        0.0                   0.0   \n",
       "3058                    0.0        1.0                   0.0   \n",
       "2249                    0.0        0.0                   0.0   \n",
       "\n",
       "       ratio_extRedirection  ratio_intErrors  ratio_extErrors  login_form  \\\n",
       "3886               0.375000              0.0         0.250000         1.0   \n",
       "36                 0.146341              0.0         0.013937         1.0   \n",
       "10876              0.185185              0.0         0.296296         0.0   \n",
       "3058               0.000000              0.0         0.000000         0.0   \n",
       "2249               0.250000              0.0         0.000000         0.0   \n",
       "\n",
       "       external_favicon  links_in_tags  submit_email  ratio_intMedia  \\\n",
       "3886                0.0      85.714286           0.0      100.000000   \n",
       "36                  1.0      96.666667           0.0       97.435897   \n",
       "10876               0.0      88.461538           0.0      100.000000   \n",
       "3058                1.0      97.500000           0.0      100.000000   \n",
       "2249                0.0      25.000000           0.0        0.000000   \n",
       "\n",
       "       ratio_extMedia  sfh  iframe  popup_window  safe_anchor  onmouseover  \\\n",
       "3886         0.000000  0.0     0.0           0.0    87.804878          0.0   \n",
       "36           2.564103  0.0     0.0           0.0     0.000000          0.0   \n",
       "10876        0.000000  0.0     0.0           0.0    29.411765          0.0   \n",
       "3058         0.000000  0.0     0.0           0.0    88.000000          0.0   \n",
       "2249       100.000000  0.0     0.0           0.0    27.272727          0.0   \n",
       "\n",
       "       right_clic  empty_title  domain_in_title  domain_with_copyright  \\\n",
       "3886          0.0          0.0              1.0                    0.0   \n",
       "36            0.0          0.0              1.0                    1.0   \n",
       "10876         0.0          0.0              1.0                    1.0   \n",
       "3058          0.0          0.0              1.0                    1.0   \n",
       "2249          0.0          0.0              1.0                    0.0   \n",
       "\n",
       "       whois_registered_domain  domain_registration_length  domain_age  \\\n",
       "3886                       0.0                       214.0       152.0   \n",
       "36                         0.0                        97.0      3920.0   \n",
       "10876                      0.0                       581.0      8917.0   \n",
       "3058                       0.0                       112.0       254.0   \n",
       "2249                       0.0                       522.0      3861.0   \n",
       "\n",
       "       web_traffic  dns_record  google_index  page_rank  status  \n",
       "3886     5008870.0         0.0           1.0        0.0     1.0  \n",
       "36             0.0         0.0           0.0        2.0     1.0  \n",
       "10876       1358.0         0.0           0.0        7.0     0.0  \n",
       "3058           0.0         0.0           1.0        0.0     1.0  \n",
       "2249     8439309.0         0.0           0.0        2.0     0.0  "
      ]
     },
     "execution_count": 20,
     "metadata": {},
     "output_type": "execute_result"
    }
   ],
   "source": [
    "phishing_train = pd.DataFrame(X, columns=phishing_train.columns, index=phishing_train.index)\n",
    "phishing_test = pd.DataFrame(Y, columns=phishing_test.columns, index=phishing_test.index)\n",
    "phishing_train.head()"
   ]
  },
  {
   "cell_type": "code",
   "execution_count": 21,
   "id": "79da1dfc",
   "metadata": {},
   "outputs": [
    {
     "data": {
      "text/plain": [
       "False"
      ]
     },
     "execution_count": 21,
     "metadata": {},
     "output_type": "execute_result"
    }
   ],
   "source": [
    "phishing_test.isnull().values.any()"
   ]
  },
  {
   "cell_type": "code",
   "execution_count": 22,
   "id": "9c7e12d3",
   "metadata": {},
   "outputs": [
    {
     "data": {
      "text/plain": [
       "False"
      ]
     },
     "execution_count": 22,
     "metadata": {},
     "output_type": "execute_result"
    }
   ],
   "source": [
    "phishing_train.isnull().values.any()"
   ]
  },
  {
   "cell_type": "code",
   "execution_count": 23,
   "id": "42f4ec5e",
   "metadata": {},
   "outputs": [],
   "source": [
    "zero_var = phishing_train.loc[:,phishing_train.apply(pd.Series.nunique) == 1]"
   ]
  },
  {
   "cell_type": "code",
   "execution_count": 24,
   "id": "263d8409",
   "metadata": {},
   "outputs": [
    {
     "data": {
      "text/plain": [
       "Index(['nb_or', 'ratio_nullHyperlinks', 'ratio_intRedirection',\n",
       "       'ratio_intErrors', 'submit_email', 'sfh'],\n",
       "      dtype='object')"
      ]
     },
     "execution_count": 24,
     "metadata": {},
     "output_type": "execute_result"
    }
   ],
   "source": [
    "zero_var.columns"
   ]
  },
  {
   "cell_type": "code",
   "execution_count": 25,
   "id": "8bbf560b",
   "metadata": {},
   "outputs": [],
   "source": [
    "phishing_train.drop(['nb_or', 'ratio_nullHyperlinks', 'ratio_intRedirection',\n",
    "       'ratio_intErrors', 'submit_email', 'sfh'], axis = 1, inplace = True)\n"
   ]
  },
  {
   "cell_type": "code",
   "execution_count": 26,
   "id": "f81b8afc",
   "metadata": {},
   "outputs": [],
   "source": [
    "phishing_test.drop(['nb_or', 'ratio_nullHyperlinks', 'ratio_intRedirection',\n",
    "       'ratio_intErrors', 'submit_email', 'sfh'], axis = 1, inplace = True)"
   ]
  },
  {
   "cell_type": "code",
   "execution_count": 27,
   "id": "84944065",
   "metadata": {},
   "outputs": [
    {
     "data": {
      "text/plain": [
       "(9144, 82)"
      ]
     },
     "execution_count": 27,
     "metadata": {},
     "output_type": "execute_result"
    }
   ],
   "source": [
    "phishing_train.shape"
   ]
  },
  {
   "cell_type": "code",
   "execution_count": 28,
   "id": "973057a7",
   "metadata": {},
   "outputs": [
    {
     "data": {
      "text/plain": [
       "(2286, 82)"
      ]
     },
     "execution_count": 28,
     "metadata": {},
     "output_type": "execute_result"
    }
   ],
   "source": [
    "phishing_test.shape"
   ]
  },
  {
   "cell_type": "code",
   "execution_count": 29,
   "id": "c7e69dfe",
   "metadata": {},
   "outputs": [
    {
     "data": {
      "text/plain": [
       "(9144, 82)"
      ]
     },
     "execution_count": 29,
     "metadata": {},
     "output_type": "execute_result"
    }
   ],
   "source": [
    "phishing_play = phishing_train.copy()\n",
    "phishing_play.shape"
   ]
  },
  {
   "cell_type": "code",
   "execution_count": 30,
   "id": "5c4e59fa",
   "metadata": {},
   "outputs": [
    {
     "data": {
      "text/plain": [
       "(9144, 50)"
      ]
     },
     "execution_count": 30,
     "metadata": {},
     "output_type": "execute_result"
    }
   ],
   "source": [
    "phishing_numerical = phishing_play.loc[:,phishing_play.apply(pd.Series.nunique) > 2]\n",
    "pd.options.display.max_columns = None\n",
    "pd.options.display.max_rows = None\n",
    "phishing_numerical.shape"
   ]
  },
  {
   "cell_type": "code",
   "execution_count": 31,
   "id": "1b0d7f4b",
   "metadata": {},
   "outputs": [
    {
     "name": "stdout",
     "output_type": "stream",
     "text": [
      "nb_qm  :  0.2919249863738444\n",
      "nb_www  :  -0.44218365829020867\n",
      "ratio_digits_url  :  0.3575050144428749\n",
      "phish_hints  :  0.33441724959354047\n",
      "nb_hyperlinks  :  -0.3395404571146591\n",
      "domain_age  :  -0.37756227379386803\n",
      "page_rank  :  -0.5051806765226464\n"
     ]
    },
    {
     "data": {
      "text/html": [
       "<div>\n",
       "<style scoped>\n",
       "    .dataframe tbody tr th:only-of-type {\n",
       "        vertical-align: middle;\n",
       "    }\n",
       "\n",
       "    .dataframe tbody tr th {\n",
       "        vertical-align: top;\n",
       "    }\n",
       "\n",
       "    .dataframe thead th {\n",
       "        text-align: right;\n",
       "    }\n",
       "</style>\n",
       "<table border=\"1\" class=\"dataframe\">\n",
       "  <thead>\n",
       "    <tr style=\"text-align: right;\">\n",
       "      <th></th>\n",
       "      <th>Attribute</th>\n",
       "      <th>Point Biserial Correlation</th>\n",
       "    </tr>\n",
       "  </thead>\n",
       "  <tbody>\n",
       "    <tr>\n",
       "      <th>2</th>\n",
       "      <td>ratio_digits_url</td>\n",
       "      <td>0.357505</td>\n",
       "    </tr>\n",
       "    <tr>\n",
       "      <th>3</th>\n",
       "      <td>phish_hints</td>\n",
       "      <td>0.334417</td>\n",
       "    </tr>\n",
       "    <tr>\n",
       "      <th>0</th>\n",
       "      <td>nb_qm</td>\n",
       "      <td>0.291925</td>\n",
       "    </tr>\n",
       "    <tr>\n",
       "      <th>4</th>\n",
       "      <td>nb_hyperlinks</td>\n",
       "      <td>-0.339540</td>\n",
       "    </tr>\n",
       "    <tr>\n",
       "      <th>5</th>\n",
       "      <td>domain_age</td>\n",
       "      <td>-0.377562</td>\n",
       "    </tr>\n",
       "    <tr>\n",
       "      <th>1</th>\n",
       "      <td>nb_www</td>\n",
       "      <td>-0.442184</td>\n",
       "    </tr>\n",
       "    <tr>\n",
       "      <th>6</th>\n",
       "      <td>page_rank</td>\n",
       "      <td>-0.505181</td>\n",
       "    </tr>\n",
       "  </tbody>\n",
       "</table>\n",
       "</div>"
      ],
      "text/plain": [
       "          Attribute  Point Biserial Correlation\n",
       "2  ratio_digits_url                    0.357505\n",
       "3       phish_hints                    0.334417\n",
       "0             nb_qm                    0.291925\n",
       "4     nb_hyperlinks                   -0.339540\n",
       "5        domain_age                   -0.377562\n",
       "1            nb_www                   -0.442184\n",
       "6         page_rank                   -0.505181"
      ]
     },
     "execution_count": 31,
     "metadata": {},
     "output_type": "execute_result"
    }
   ],
   "source": [
    "from scipy import stats\n",
    "\n",
    "y = phishing_play['status'].astype(float)\n",
    "list_corr=[]\n",
    "list_col=[]\n",
    "for column in phishing_numerical:\n",
    "    x=phishing_numerical[column]\n",
    "    corr = stats.pointbiserialr(list(x), list(y))\n",
    "    if corr[0]>0.25 or corr[0]<-0.25:\n",
    "        list_corr.append(corr[0])\n",
    "        list_col.append(column)\n",
    "        print(column , \" : \", corr[0])\n",
    "\n",
    "df_corr = pd.DataFrame()        \n",
    "df_corr [\"Attribute\"] = list_col\n",
    "df_corr[\"Point Biserial Correlation\"] = list_corr\n",
    "df_corr.sort_values(by=['Point Biserial Correlation'], ascending=False, inplace = True)\n",
    "df_corr"
   ]
  },
  {
   "cell_type": "code",
   "execution_count": 32,
   "id": "fcbfe333",
   "metadata": {},
   "outputs": [
    {
     "name": "stderr",
     "output_type": "stream",
     "text": [
      "C:\\Users\\hp\\anaconda3\\lib\\site-packages\\seaborn\\_decorators.py:36: FutureWarning: Pass the following variable as a keyword arg: x. From version 0.12, the only valid positional argument will be `data`, and passing other arguments without an explicit keyword will result in an error or misinterpretation.\n",
      "  warnings.warn(\n"
     ]
    },
    {
     "data": {
      "text/plain": [
       "<seaborn.axisgrid.FacetGrid at 0x297061f6c40>"
      ]
     },
     "execution_count": 32,
     "metadata": {},
     "output_type": "execute_result"
    },
    {
     "data": {
      "image/png": "[encoded data removed]",
      "text/plain": [
       "<Figure size 561.311x360 with 1 Axes>"
      ]
     },
     "metadata": {
      "needs_background": "light"
     },
     "output_type": "display_data"
    }
   ],
   "source": [
    "import seaborn as sns\n",
    "tmp = phishing_train.copy()\n",
    "tmp.rename(columns={1:\"Phishing\", 0:\"Legitimate\"}, inplace=True)\n",
    "tmp['status'].replace(['1','0'], ['Phishing','Legitimate'], inplace=True)\n",
    "sns.catplot(\"page_rank\", hue=\"status\", data=tmp, kind=\"count\", \n",
    "            palette={1:\"green\", 0:\"blue\"} ,height=5.0, aspect=11.7/8.27 )"
   ]
  },
  {
   "cell_type": "code",
   "execution_count": 33,
   "id": "9a6aadd4",
   "metadata": {},
   "outputs": [
    {
     "data": {
      "text/plain": [
       "(9144, 32)"
      ]
     },
     "execution_count": 33,
     "metadata": {},
     "output_type": "execute_result"
    }
   ],
   "source": [
    "phishing_binary = phishing_play.loc[:,phishing_play.apply(pd.Series.nunique) == 2]\n",
    "phishing_binary.shape"
   ]
  },
  {
   "cell_type": "code",
   "execution_count": 34,
   "id": "aca087ca",
   "metadata": {},
   "outputs": [
    {
     "data": {
      "text/plain": [
       "<AxesSubplot:>"
      ]
     },
     "execution_count": 34,
     "metadata": {},
     "output_type": "execute_result"
    },
    {
     "data": {
      "image/png": "[encoded data removed]",
      "text/plain": [
       "<Figure size 432x288 with 1 Axes>"
      ]
     },
     "metadata": {
      "needs_background": "light"
     },
     "output_type": "display_data"
    }
   ],
   "source": [
    "from sklearn.feature_selection import chi2\n",
    "X = phishing_binary\n",
    "y = (phishing_play['status']).astype(int)\n",
    "chi_scores = chi2(X,y)\n",
    "p_values = pd.Series(chi_scores[1],index = X.columns)\n",
    "p_values.sort_values(ascending = False , inplace = True)\n",
    "mask = p_values>0.05;\n",
    "p_values[mask].plot.bar()"
   ]
  },
  {
   "cell_type": "code",
   "execution_count": 35,
   "id": "099e4e53",
   "metadata": {},
   "outputs": [],
   "source": [
    "likely_cat = {}\n",
    "for var in phishing_train.iloc[:,0:].columns:\n",
    "    likely_cat[var] = 1.*phishing_train[var].nunique()/phishing_train[var].count() < 0.002 \n",
    "\n",
    "num_cols = []\n",
    "cat_cols = []\n",
    "for col in likely_cat.keys():\n",
    "    if (likely_cat[col] == False):\n",
    "        num_cols.append(col)\n",
    "    else:\n",
    "        cat_cols.append(col)\n"
   ]
  },
  {
   "cell_type": "code",
   "execution_count": 36,
   "id": "d8eb65e7",
   "metadata": {},
   "outputs": [
    {
     "data": {
      "image/png": "[encoded data removed]",
      "text/plain": [
       "<Figure size 864x576 with 1 Axes>"
      ]
     },
     "metadata": {},
     "output_type": "display_data"
    }
   ],
   "source": [
    "%matplotlib inline\n",
    "\n",
    "import matplotlib.pyplot as plt\n",
    "df_distr =phishing_train.groupby('status')[num_cols].mean().reset_index().T\n",
    "df_distr.rename(columns={1:\"Phishing\", 0:\"Legitimate\"}, inplace=True)\n",
    "\n",
    "plt.style.use('ggplot')\n",
    "plt.rcParams['axes.facecolor']='w'\n",
    "ax = df_distr[1:-3][['Phishing','Legitimate']].plot(kind='bar', title =\"Distribution of Average values across Target\", figsize=(12, 8), legend=True, fontsize=12)\n",
    "ax.set_xlabel(\"Numerical Features\", fontsize=14)\n",
    "ax.set_ylabel(\"Average Values\", fontsize=14)\n",
    "plt.show()"
   ]
  },
  {
   "cell_type": "code",
   "execution_count": 37,
   "id": "f49723d2",
   "metadata": {},
   "outputs": [],
   "source": [
    "phishing_train_f = phishing_train.drop(\"status\", axis=1)\n",
    "phishing_train_l = phishing_train[\"status\"].copy()"
   ]
  },
  {
   "cell_type": "code",
   "execution_count": 38,
   "id": "4ac7b9ae",
   "metadata": {},
   "outputs": [],
   "source": [
    "phishing_test_f = phishing_test.drop(\"status\", axis=1)\n",
    "phishing_test_l = phishing_test[\"status\"].copy()"
   ]
  },
  {
   "cell_type": "code",
   "execution_count": 39,
   "id": "fd063f64",
   "metadata": {},
   "outputs": [
    {
     "data": {
      "text/plain": [
       "Index(['length_url', 'length_hostname', 'nb_dots', 'nb_hyphens', 'nb_at',\n",
       "       'nb_qm', 'nb_and', 'nb_eq', 'nb_underscore', 'nb_percent', 'nb_slash',\n",
       "       'nb_colon', 'nb_comma', 'nb_semicolumn', 'nb_dollar', 'nb_space',\n",
       "       'nb_www', 'nb_com', 'http_in_path', 'ratio_digits_url',\n",
       "       'ratio_digits_host', 'nb_subdomains', 'nb_redirection',\n",
       "       'length_words_raw', 'char_repeat', 'shortest_words_raw',\n",
       "       'shortest_word_host', 'shortest_word_path', 'longest_words_raw',\n",
       "       'longest_word_host', 'longest_word_path', 'avg_words_raw',\n",
       "       'avg_word_host', 'avg_word_path', 'phish_hints', 'statistical_report',\n",
       "       'nb_hyperlinks', 'ratio_intHyperlinks', 'ratio_extHyperlinks',\n",
       "       'nb_extCSS', 'ratio_extRedirection', 'ratio_extErrors', 'links_in_tags',\n",
       "       'ratio_intMedia', 'ratio_extMedia', 'safe_anchor',\n",
       "       'domain_registration_length', 'domain_age', 'web_traffic', 'page_rank'],\n",
       "      dtype='object')"
      ]
     },
     "execution_count": 39,
     "metadata": {},
     "output_type": "execute_result"
    }
   ],
   "source": [
    "phishing_numerical.columns"
   ]
  },
  {
   "cell_type": "code",
   "execution_count": 40,
   "id": "5d54be5c",
   "metadata": {},
   "outputs": [],
   "source": [
    "from sklearn.preprocessing import StandardScaler\n",
    "\n",
    "col_names = phishing_numerical.columns\n",
    "features = phishing_train_f[col_names]\n",
    "\n",
    "scaler = StandardScaler()\n",
    "scaler.fit(features)\n",
    "features = scaler.transform(features)\n",
    "\n",
    "phishing_train_f[col_names] = features"
   ]
  },
  {
   "cell_type": "code",
   "execution_count": 41,
   "id": "4f17d5f4",
   "metadata": {},
   "outputs": [
    {
     "data": {
      "text/plain": [
       "(9144, 81)"
      ]
     },
     "execution_count": 41,
     "metadata": {},
     "output_type": "execute_result"
    }
   ],
   "source": [
    "phishing_train_f.shape"
   ]
  },
  {
   "cell_type": "code",
   "execution_count": 42,
   "id": "4b1c159d",
   "metadata": {},
   "outputs": [],
   "source": [
    "fea = phishing_test_f[col_names]\n",
    "fea = scaler.transform(fea)\n",
    "phishing_test_f[col_names] = fea"
   ]
  },
  {
   "cell_type": "code",
   "execution_count": 43,
   "id": "b1835fd5",
   "metadata": {},
   "outputs": [
    {
     "data": {
      "text/plain": [
       "(2286, 81)"
      ]
     },
     "execution_count": 43,
     "metadata": {},
     "output_type": "execute_result"
    }
   ],
   "source": [
    "phishing_test_f.shape"
   ]
  },
  {
   "cell_type": "code",
   "execution_count": 44,
   "id": "f9916481",
   "metadata": {},
   "outputs": [
    {
     "name": "stdout",
     "output_type": "stream",
     "text": [
      "[0. 0. 0. ... 1. 0. 1.]\n",
      "              precision    recall  f1-score   support\n",
      "\n",
      "         0.0       0.96      0.97      0.97      1157\n",
      "         1.0       0.97      0.96      0.97      1129\n",
      "\n",
      "    accuracy                           0.97      2286\n",
      "   macro avg       0.97      0.97      0.97      2286\n",
      "weighted avg       0.97      0.97      0.97      2286\n",
      "\n"
     ]
    },
    {
     "data": {
      "image/png": "[encoded data removed]",
      "text/plain": [
       "<Figure size 432x288 with 2 Axes>"
      ]
     },
     "metadata": {},
     "output_type": "display_data"
    }
   ],
   "source": [
    "from sklearn.metrics import confusion_matrix, classification_report\n",
    "import seaborn as sns\n",
    "from sklearn.ensemble import RandomForestClassifier\n",
    "rfc = RandomForestClassifier(random_state = 35)\n",
    "rfc.fit(phishing_train_f, phishing_train_l)\n",
    "rfc.score(phishing_train_f, phishing_train_l)\n",
    "y_predict = rfc.predict(phishing_test_f)\n",
    "print(y_predict)\n",
    "sns.heatmap(confusion_matrix(phishing_test_l, y_predict, normalize = 'true'), annot=True)\n",
    "print(classification_report(phishing_test_l, y_predict))"
   ]
  },
  {
   "cell_type": "code",
   "execution_count": 50,
   "id": "102b075e",
   "metadata": {},
   "outputs": [
    {
     "name": "stdout",
     "output_type": "stream",
     "text": [
      "              precision    recall  f1-score   support\n",
      "\n",
      "         0.0       0.93      0.96      0.95      1157\n",
      "         1.0       0.96      0.93      0.94      1129\n",
      "\n",
      "    accuracy                           0.94      2286\n",
      "   macro avg       0.95      0.94      0.94      2286\n",
      "weighted avg       0.95      0.94      0.94      2286\n",
      "\n"
     ]
    },
    {
     "data": {
      "image/png": "[encoded data removed]",
      "text/plain": [
       "<Figure size 432x288 with 2 Axes>"
      ]
     },
     "metadata": {},
     "output_type": "display_data"
    }
   ],
   "source": [
    "from sklearn.neighbors import KNeighborsClassifier\n",
    "KNN = KNeighborsClassifier()\n",
    "KNN.fit(phishing_train_f, phishing_train_l)\n",
    "y_predict = KNN.predict(phishing_test_f)\n",
    "\n",
    "\n",
    "sns.heatmap(confusion_matrix(phishing_test_l, y_predict, normalize = 'true'), annot=True)\n",
    "print(classification_report(phishing_test_l, y_predict))"
   ]
  },
  {
   "cell_type": "code",
   "execution_count": 46,
   "id": "f2566625",
   "metadata": {},
   "outputs": [
    {
     "name": "stdout",
     "output_type": "stream",
     "text": [
      "              precision    recall  f1-score   support\n",
      "\n",
      "         0.0       0.96      0.97      0.97      1157\n",
      "         1.0       0.97      0.96      0.96      1129\n",
      "\n",
      "    accuracy                           0.97      2286\n",
      "   macro avg       0.97      0.96      0.96      2286\n",
      "weighted avg       0.97      0.97      0.97      2286\n",
      "\n"
     ]
    },
    {
     "data": {
      "image/png": "[encoded data removed]",
      "text/plain": [
       "<Figure size 432x288 with 2 Axes>"
      ]
     },
     "metadata": {},
     "output_type": "display_data"
    }
   ],
   "source": [
    "from sklearn.svm import SVC\n",
    "svc = SVC()\n",
    "svc.fit(phishing_train_f, phishing_train_l)\n",
    "y_predict = svc.predict(phishing_test_f)\n",
    "sns.heatmap(confusion_matrix(phishing_test_l, y_predict, normalize = 'true'), annot=True)\n",
    "print(classification_report(phishing_test_l, y_predict))"
   ]
  },
  {
   "cell_type": "code",
   "execution_count": 51,
   "id": "258a71e9",
   "metadata": {},
   "outputs": [
    {
     "name": "stdout",
     "output_type": "stream",
     "text": [
      "              precision    recall  f1-score   support\n",
      "\n",
      "         0.0       0.95      0.98      0.97      1157\n",
      "         1.0       0.98      0.95      0.96      1129\n",
      "\n",
      "    accuracy                           0.97      2286\n",
      "   macro avg       0.97      0.96      0.96      2286\n",
      "weighted avg       0.97      0.97      0.96      2286\n",
      "\n"
     ]
    },
    {
     "data": {
      "image/png": "[encoded data removed]",
      "text/plain": [
       "<Figure size 432x288 with 2 Axes>"
      ]
     },
     "metadata": {},
     "output_type": "display_data"
    }
   ],
   "source": [
    "from sklearn.svm import SVC\n",
    "svc_poly = SVC(kernel=\"poly\", degree=3, C=3)\n",
    "svc_poly.fit(phishing_train_f, phishing_train_l)\n",
    "y_predict = svc_poly.predict(phishing_test_f)\n",
    "sns.heatmap(confusion_matrix(phishing_test_l, y_predict, normalize = 'true'), annot=True)\n",
    "print(classification_report(phishing_test_l, y_predict))"
   ]
  },
  {
   "cell_type": "code",
   "execution_count": 48,
   "id": "cf35b4d6",
   "metadata": {},
   "outputs": [
    {
     "name": "stdout",
     "output_type": "stream",
     "text": [
      "              precision    recall  f1-score   support\n",
      "\n",
      "         0.0       0.96      0.96      0.96      1157\n",
      "         1.0       0.96      0.96      0.96      1129\n",
      "\n",
      "    accuracy                           0.96      2286\n",
      "   macro avg       0.96      0.96      0.96      2286\n",
      "weighted avg       0.96      0.96      0.96      2286\n",
      "\n"
     ]
    },
    {
     "data": {
      "image/png": "[encoded data removed]",
      "text/plain": [
       "<Figure size 432x288 with 2 Axes>"
      ]
     },
     "metadata": {},
     "output_type": "display_data"
    }
   ],
   "source": [
    "from sklearn.linear_model import LogisticRegression\n",
    "lr = LogisticRegression(max_iter=140)\n",
    "lr.fit(phishing_train_f, phishing_train_l)\n",
    "y_predict = lr.predict(phishing_test_f)\n",
    "sns.heatmap(confusion_matrix(phishing_test_l, y_predict, normalize = 'true'), annot=True)\n",
    "print(classification_report(phishing_test_l, y_predict))"
   ]
  },
  {
   "cell_type": "code",
   "execution_count": 49,
   "id": "fb80c23b",
   "metadata": {},
   "outputs": [
    {
     "name": "stdout",
     "output_type": "stream",
     "text": [
      "[19:01:55] WARNING: C:/Users/Administrator/workspace/xgboost-win64_release_1.5.1/src/learner.cc:1115: Starting in XGBoost 1.3.0, the default evaluation metric used with the objective 'binary:logistic' was changed from 'error' to 'logloss'. Explicitly set eval_metric if you'd like to restore the old behavior.\n",
      "              precision    recall  f1-score   support\n",
      "\n",
      "         0.0       0.97      0.97      0.97      1157\n",
      "         1.0       0.97      0.97      0.97      1129\n",
      "\n",
      "    accuracy                           0.97      2286\n",
      "   macro avg       0.97      0.97      0.97      2286\n",
      "weighted avg       0.97      0.97      0.97      2286\n",
      "\n"
     ]
    },
    {
     "data": {
      "image/png": "[encoded data removed]",
      "text/plain": [
       "<Figure size 432x288 with 2 Axes>"
      ]
     },
     "metadata": {},
     "output_type": "display_data"
    }
   ],
   "source": [
    "from xgboost import XGBClassifier\n",
    "xgb = XGBClassifier(use_label_encoder=False, objective= 'binary:logistic',\n",
    "    nthread=4,\n",
    "    seed=42)\n",
    "xgb.fit(phishing_train_f, phishing_train_l)\n",
    "y_predict = xgb.predict(phishing_test_f)\n",
    "sns.heatmap(confusion_matrix(phishing_test_l, y_predict, normalize = 'true'), annot=True)\n",
    "print(classification_report(phishing_test_l, y_predict))"
   ]
  },
  {
   "cell_type": "code",
   "execution_count": 94,
   "id": "3afce5d2",
   "metadata": {},
   "outputs": [
    {
     "name": "stdout",
     "output_type": "stream",
     "text": [
      "Fitting 5 folds for each of 216 candidates, totalling 1080 fits\n",
      "Random grid:  {'n_estimators': [100, 200, 500, 1000], 'max_depth': [30, 40, 50], 'min_samples_split': [2, 6, 10], 'min_samples_leaf': [1, 3, 4], 'bootstrap': [True, False]} \n",
      "\n",
      "Best Parameters:  {'bootstrap': False, 'max_depth': 30, 'min_samples_leaf': 1, 'min_samples_split': 2, 'n_estimators': 200}  \n",
      "\n"
     ]
    }
   ],
   "source": [
    "from sklearn.model_selection import GridSearchCV\n",
    "rf = RandomForestClassifier(random_state = 35)\n",
    "from sklearn.metrics import f1_score\n",
    "from sklearn.metrics import make_scorer\n",
    "f1 = make_scorer(f1_score) \n",
    "from sklearn.model_selection import RandomizedSearchCV\n",
    "\n",
    "n_estimators = [ 100, 200, 500, 1000]\n",
    "max_depth = [ 30, 40, 50]\n",
    "min_samples_split = [2, 6, 10]\n",
    "min_samples_leaf = [1, 3, 4]\n",
    "bootstrap = [True, False]\n",
    "\n",
    "random_grid = {'n_estimators': n_estimators,\n",
    "\n",
    "'max_depth': max_depth,\n",
    "\n",
    "'min_samples_split': min_samples_split,\n",
    "\n",
    "'min_samples_leaf': min_samples_leaf,\n",
    "\n",
    "'bootstrap': bootstrap}\n",
    "\n",
    "rf_random = GridSearchCV(estimator = rf,\n",
    "\n",
    "param_grid = random_grid,\n",
    "               cv = 5, verbose=2, n_jobs = -1, scoring='accuracy')\n",
    "rf_random.fit(phishing_train_f,phishing_train_l)\n",
    "\n",
    "# this prints the contents of the parameters in the random grid\n",
    "print ('Random grid: ', random_grid, '\\n')\n",
    "\n",
    "# print the best parameters\n",
    "print ('Best Parameters: ', rf_random.best_params_, ' \\n')"
   ]
  },
  {
   "cell_type": "code",
   "execution_count": 95,
   "id": "6038c48a",
   "metadata": {},
   "outputs": [
    {
     "name": "stdout",
     "output_type": "stream",
     "text": [
      "[0. 0. 0. ... 1. 0. 1.]\n",
      "              precision    recall  f1-score   support\n",
      "\n",
      "         0.0       0.97      0.97      0.97      1157\n",
      "         1.0       0.97      0.97      0.97      1129\n",
      "\n",
      "    accuracy                           0.97      2286\n",
      "   macro avg       0.97      0.97      0.97      2286\n",
      "weighted avg       0.97      0.97      0.97      2286\n",
      "\n"
     ]
    },
    {
     "data": {
      "image/png": "[encoded data removed]",
      "text/plain": [
       "<Figure size 432x288 with 2 Axes>"
      ]
     },
     "metadata": {},
     "output_type": "display_data"
    }
   ],
   "source": [
    "rf_random.best_estimator_.fit(phishing_train_f, phishing_train_l)\n",
    "rf_random.best_estimator_.score(phishing_train_f, phishing_train_l)\n",
    "y_predict = rf_random.best_estimator_.predict(phishing_test_f)\n",
    "print(y_predict)\n",
    "from sklearn.metrics import confusion_matrix, classification_report\n",
    "sns.heatmap(confusion_matrix(phishing_test_l, y_predict, normalize = 'true'), annot=True)\n",
    "print(classification_report(phishing_test_l, y_predict))"
   ]
  },
  {
   "cell_type": "code",
   "execution_count": 67,
   "id": "0e51b2f3",
   "metadata": {},
   "outputs": [
    {
     "name": "stdout",
     "output_type": "stream",
     "text": [
      "Fitting 5 folds for each of 96 candidates, totalling 480 fits\n",
      "[23:29:50] WARNING: C:/Users/Administrator/workspace/xgboost-win64_release_1.5.1/src/learner.cc:1115: Starting in XGBoost 1.3.0, the default evaluation metric used with the objective 'binary:logistic' was changed from 'error' to 'logloss'. Explicitly set eval_metric if you'd like to restore the old behavior.\n",
      "Best Parameters:  {'learning_rate': 0.1, 'max_depth': 5, 'n_estimators': 180}  \n",
      "\n"
     ]
    }
   ],
   "source": [
    "from xgboost import XGBClassifier\n",
    "\n",
    "\n",
    "parameters = {\n",
    "    'max_depth': range (2, 10, 1),\n",
    "    'n_estimators': range(60, 220, 40),\n",
    "    'learning_rate': [0.1, 0.01, 0.05]\n",
    "}\n",
    "\n",
    "xgb_random = GridSearchCV(\n",
    "    estimator=xgb,\n",
    "    param_grid=parameters,\n",
    "    scoring='accuracy',\n",
    "    n_jobs = 10,\n",
    "    cv = 5,\n",
    "    verbose=True\n",
    ")\n",
    "xgb_random.fit(phishing_train_f,phishing_train_l)\n",
    "\n",
    "\n",
    "# print the best parameters\n",
    "print ('Best Parameters: ', xgb_random.best_params_, ' \\n')\n",
    "\n"
   ]
  },
  {
   "cell_type": "code",
   "execution_count": 68,
   "id": "7ad23f8f",
   "metadata": {},
   "outputs": [
    {
     "name": "stdout",
     "output_type": "stream",
     "text": [
      "[23:38:56] WARNING: C:/Users/Administrator/workspace/xgboost-win64_release_1.5.1/src/learner.cc:1115: Starting in XGBoost 1.3.0, the default evaluation metric used with the objective 'binary:logistic' was changed from 'error' to 'logloss'. Explicitly set eval_metric if you'd like to restore the old behavior.\n",
      "[0 0 0 ... 1 0 1]\n",
      "              precision    recall  f1-score   support\n",
      "\n",
      "         0.0       0.98      0.97      0.97      1157\n",
      "         1.0       0.97      0.98      0.97      1129\n",
      "\n",
      "    accuracy                           0.97      2286\n",
      "   macro avg       0.97      0.97      0.97      2286\n",
      "weighted avg       0.97      0.97      0.97      2286\n",
      "\n"
     ]
    },
    {
     "data": {
      "image/png": "[encoded data removed]",
      "text/plain": [
       "<Figure size 432x288 with 2 Axes>"
      ]
     },
     "metadata": {},
     "output_type": "display_data"
    }
   ],
   "source": [
    "xgb_random.best_estimator_.fit(phishing_train_f, phishing_train_l)\n",
    "xgb_random.best_estimator_.score(phishing_train_f, phishing_train_l)\n",
    "y_predict = xgb_random.best_estimator_.predict(phishing_test_f)\n",
    "print(y_predict)\n",
    "from sklearn.metrics import confusion_matrix, classification_report\n",
    "sns.heatmap(confusion_matrix(phishing_test_l, y_predict, normalize = 'true'), annot=True)\n",
    "print(classification_report(phishing_test_l, y_predict))"
   ]
  },
  {
   "cell_type": "code",
   "execution_count": 100,
   "id": "9268f64f",
   "metadata": {},
   "outputs": [
    {
     "name": "stdout",
     "output_type": "stream",
     "text": [
      "[17:48:28] WARNING: C:/Users/Administrator/workspace/xgboost-win64_release_1.5.1/src/learner.cc:1115: Starting in XGBoost 1.3.0, the default evaluation metric used with the objective 'binary:logistic' was changed from 'error' to 'logloss'. Explicitly set eval_metric if you'd like to restore the old behavior.\n",
      "              precision    recall  f1-score   support\n",
      "\n",
      "         0.0       0.97      0.98      0.97      1157\n",
      "         1.0       0.98      0.97      0.97      1129\n",
      "\n",
      "    accuracy                           0.97      2286\n",
      "   macro avg       0.97      0.97      0.97      2286\n",
      "weighted avg       0.97      0.97      0.97      2286\n",
      "\n"
     ]
    },
    {
     "data": {
      "image/png": "[encoded data removed]",
      "text/plain": [
       "<Figure size 432x288 with 2 Axes>"
      ]
     },
     "metadata": {},
     "output_type": "display_data"
    }
   ],
   "source": [
    "from sklearn.ensemble import VotingClassifier\n",
    "xgb_voting = XGBClassifier(use_label_encoder=False, objective= 'binary:logistic',\n",
    "    nthread=4,\n",
    "    seed=42)\n",
    "rf_voting = RandomForestClassifier(bootstrap=False, max_depth=30, min_samples_leaf=1, \n",
    "                                   min_samples_split=2, n_estimators = 200 )\n",
    "svc_voting = SVC(kernel=\"poly\", degree=3, C=3)\n",
    "\n",
    "voting_clf = VotingClassifier(\n",
    " estimators=[('xgb', xgb_voting), ('rf', rf_voting), ('svc', svc_voting)],\n",
    " voting='hard'\n",
    " )\n",
    "voting_clf.fit(phishing_train_f, phishing_train_l)\n",
    "y_predict = voting_clf.predict(phishing_test_f)\n",
    "\n",
    "sns.heatmap(confusion_matrix(phishing_test_l, y_predict, normalize = 'true'), annot=True)\n",
    "print(classification_report(phishing_test_l, y_predict))"
   ]
  },
  {
   "cell_type": "code",
   "execution_count": 87,
   "id": "31484e32",
   "metadata": {},
   "outputs": [
    {
     "name": "stdout",
     "output_type": "stream",
     "text": [
      "Best leaf_size: 1\n",
      "Best p: 1\n",
      "Best n_neighbors: 3\n"
     ]
    }
   ],
   "source": [
    "leaf_size = list(range(1,50))\n",
    "n_neighbors = list(range(1,30))\n",
    "p=[1,2]\n",
    "hyperparameters = dict(leaf_size=leaf_size, n_neighbors=n_neighbors, p=p)\n",
    "#Create new KNN object\n",
    "knn_2 = KNeighborsClassifier()\n",
    "#Use GridSearch\n",
    "clf = GridSearchCV(knn_2, hyperparameters, cv=5, scoring = 'accuracy', n_jobs =-1 )\n",
    "#Fit the model\n",
    "best_model = clf.fit(phishing_train_f, phishing_train_l)\n",
    "#Print The value of best Hyperparameters\n",
    "print('Best leaf_size:', best_model.best_estimator_.get_params()['leaf_size'])\n",
    "print('Best p:', best_model.best_estimator_.get_params()['p'])\n",
    "print('Best n_neighbors:', best_model.best_estimator_.get_params()['n_neighbors'])"
   ]
  },
  {
   "cell_type": "code",
   "execution_count": 88,
   "id": "a65517cf",
   "metadata": {},
   "outputs": [
    {
     "name": "stdout",
     "output_type": "stream",
     "text": [
      "              precision    recall  f1-score   support\n",
      "\n",
      "         0.0       0.95      0.96      0.96      1157\n",
      "         1.0       0.96      0.95      0.96      1129\n",
      "\n",
      "    accuracy                           0.96      2286\n",
      "   macro avg       0.96      0.96      0.96      2286\n",
      "weighted avg       0.96      0.96      0.96      2286\n",
      "\n"
     ]
    },
    {
     "data": {
      "image/png": "[encoded data removed]",
      "text/plain": [
       "<Figure size 432x288 with 2 Axes>"
      ]
     },
     "metadata": {},
     "output_type": "display_data"
    }
   ],
   "source": [
    "y_predict = best_model.best_estimator_.predict(phishing_test_f)\n",
    "\n",
    "sns.heatmap(confusion_matrix(phishing_test_l, y_predict, normalize = 'true'), annot=True)\n",
    "print(classification_report(phishing_test_l, y_predict))"
   ]
  },
  {
   "cell_type": "code",
   "execution_count": 54,
   "id": "12435bdc",
   "metadata": {},
   "outputs": [
    {
     "data": {
      "image/png": "[encoded data removed]",
      "text/plain": [
       "<Figure size 432x288 with 1 Axes>"
      ]
     },
     "metadata": {},
     "output_type": "display_data"
    }
   ],
   "source": [
    "from sklearn.metrics import plot_roc_curve\n",
    "\n",
    "disp = plot_roc_curve (rfc, phishing_test_f, phishing_test_l)\n",
    "plot_roc_curve(KNN,phishing_test_f, phishing_test_l, ax = disp.ax_); \n",
    "plot_roc_curve(svc,phishing_test_f, phishing_test_l, ax = disp.ax_); \n",
    "plot_roc_curve(svc_poly,phishing_test_f, phishing_test_l, ax = disp.ax_); \n",
    "plot_roc_curve(lr,phishing_test_f, phishing_test_l, ax = disp.ax_) ;\n",
    "plot_roc_curve(xgb,phishing_test_f, phishing_test_l, ax = disp.ax_) ;\n"
   ]
  },
  {
   "cell_type": "code",
   "execution_count": null,
   "id": "3bb8e938",
   "metadata": {},
   "outputs": [],
   "source": []
  }
 ],
 "metadata": {
  "kernelspec": {
   "display_name": "Python 3",
   "language": "python",
   "name": "python3"
  },
  "language_info": {
   "codemirror_mode": {
    "name": "ipython",
    "version": 3
   },
   "file_extension": ".py",
   "mimetype": "text/x-python",
   "name": "python",
   "nbconvert_exporter": "python",
   "pygments_lexer": "ipython3",
   "version": "3.8.8"
  }
 },
 "nbformat": 4,
 "nbformat_minor": 5
}
